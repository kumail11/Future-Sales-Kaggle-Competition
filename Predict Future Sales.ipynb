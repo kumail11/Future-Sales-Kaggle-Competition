{
 "cells": [
  {
   "cell_type": "markdown",
   "id": "f3713a35",
   "metadata": {},
   "source": [
    "## Import Libraries.."
   ]
  },
  {
   "cell_type": "code",
   "execution_count": 1,
   "id": "dd6b992b",
   "metadata": {
    "_cell_guid": "b1076dfc-b9ad-4769-8c92-a6c4dae69d19",
    "_uuid": "8f2839f25d086af736a60e9eeb907d3b93b6e0e5",
    "execution": {
     "iopub.execute_input": "2021-12-23T13:10:04.606242Z",
     "iopub.status.busy": "2021-12-23T13:10:04.604328Z",
     "iopub.status.idle": "2021-12-23T13:10:05.883447Z",
     "shell.execute_reply": "2021-12-23T13:10:05.882573Z",
     "shell.execute_reply.started": "2021-12-23T13:06:09.892332Z"
    },
    "papermill": {
     "duration": 1.302337,
     "end_time": "2021-12-23T13:10:05.883648",
     "exception": false,
     "start_time": "2021-12-23T13:10:04.581311",
     "status": "completed"
    },
    "tags": []
   },
   "outputs": [],
   "source": [
    "import numpy as np\n",
    "import pandas as pd\n",
    "import matplotlib.pyplot as plt\n",
    "import seaborn as sns\n",
    "from sklearn.model_selection import train_test_split, cross_val_score"
   ]
  },
  {
   "cell_type": "code",
   "execution_count": 2,
   "id": "ef5d19c2",
   "metadata": {},
   "outputs": [
    {
     "name": "stdout",
     "output_type": "stream",
     "text": [
      "future-sales/items.csv\n",
      "future-sales/item_categories.csv\n",
      "future-sales/sales_train.csv\n",
      "future-sales/sample_submission.csv\n",
      "future-sales/shops.csv\n",
      "future-sales/test.csv\n"
     ]
    }
   ],
   "source": [
    "import os\n",
    "for dirname, _, filenames in os.walk('future-sales/'):\n",
    "    for filename in filenames:\n",
    "        print(os.path.join(dirname, filename))"
   ]
  },
  {
   "cell_type": "markdown",
   "id": "c4139506",
   "metadata": {
    "papermill": {
     "duration": 0.014091,
     "end_time": "2021-12-23T13:10:05.913901",
     "exception": false,
     "start_time": "2021-12-23T13:10:05.899810",
     "status": "completed"
    },
    "tags": []
   },
   "source": [
    "## Read Data.."
   ]
  },
  {
   "cell_type": "code",
   "execution_count": 3,
   "id": "9aa7f816",
   "metadata": {
    "execution": {
     "iopub.execute_input": "2021-12-23T13:10:05.946633Z",
     "iopub.status.busy": "2021-12-23T13:10:05.946054Z",
     "iopub.status.idle": "2021-12-23T13:10:08.458238Z",
     "shell.execute_reply": "2021-12-23T13:10:08.458758Z",
     "shell.execute_reply.started": "2021-12-23T13:06:09.911035Z"
    },
    "papermill": {
     "duration": 2.530003,
     "end_time": "2021-12-23T13:10:08.459016",
     "exception": false,
     "start_time": "2021-12-23T13:10:05.929013",
     "status": "completed"
    },
    "tags": []
   },
   "outputs": [],
   "source": [
    "item_categories = pd.read_csv('future-sales/item_categories.csv')\n",
    "sale_item = pd.read_csv('future-sales/items.csv')\n",
    "shop_name = pd.read_csv('future-sales/shops.csv')\n",
    "train_data = pd.read_csv('future-sales/sales_train.csv')\n",
    "test_data = pd.read_csv('future-sales/test.csv')"
   ]
  },
  {
   "cell_type": "code",
   "execution_count": 4,
   "id": "5c4bfc34",
   "metadata": {
    "execution": {
     "iopub.execute_input": "2021-12-23T13:10:08.502486Z",
     "iopub.status.busy": "2021-12-23T13:10:08.500564Z",
     "iopub.status.idle": "2021-12-23T13:10:08.521873Z",
     "shell.execute_reply": "2021-12-23T13:10:08.521240Z",
     "shell.execute_reply.started": "2021-12-23T13:06:11.574698Z"
    },
    "papermill": {
     "duration": 0.047201,
     "end_time": "2021-12-23T13:10:08.522045",
     "exception": false,
     "start_time": "2021-12-23T13:10:08.474844",
     "status": "completed"
    },
    "tags": []
   },
   "outputs": [
    {
     "data": {
      "text/html": [
       "<div>\n",
       "<style scoped>\n",
       "    .dataframe tbody tr th:only-of-type {\n",
       "        vertical-align: middle;\n",
       "    }\n",
       "\n",
       "    .dataframe tbody tr th {\n",
       "        vertical-align: top;\n",
       "    }\n",
       "\n",
       "    .dataframe thead th {\n",
       "        text-align: right;\n",
       "    }\n",
       "</style>\n",
       "<table border=\"1\" class=\"dataframe\">\n",
       "  <thead>\n",
       "    <tr style=\"text-align: right;\">\n",
       "      <th></th>\n",
       "      <th>date</th>\n",
       "      <th>date_block_num</th>\n",
       "      <th>shop_id</th>\n",
       "      <th>item_id</th>\n",
       "      <th>item_price</th>\n",
       "      <th>item_cnt_day</th>\n",
       "    </tr>\n",
       "  </thead>\n",
       "  <tbody>\n",
       "    <tr>\n",
       "      <th>0</th>\n",
       "      <td>02.01.2013</td>\n",
       "      <td>0</td>\n",
       "      <td>59</td>\n",
       "      <td>22154</td>\n",
       "      <td>999.00</td>\n",
       "      <td>1.0</td>\n",
       "    </tr>\n",
       "    <tr>\n",
       "      <th>1</th>\n",
       "      <td>03.01.2013</td>\n",
       "      <td>0</td>\n",
       "      <td>25</td>\n",
       "      <td>2552</td>\n",
       "      <td>899.00</td>\n",
       "      <td>1.0</td>\n",
       "    </tr>\n",
       "    <tr>\n",
       "      <th>2</th>\n",
       "      <td>05.01.2013</td>\n",
       "      <td>0</td>\n",
       "      <td>25</td>\n",
       "      <td>2552</td>\n",
       "      <td>899.00</td>\n",
       "      <td>-1.0</td>\n",
       "    </tr>\n",
       "    <tr>\n",
       "      <th>3</th>\n",
       "      <td>06.01.2013</td>\n",
       "      <td>0</td>\n",
       "      <td>25</td>\n",
       "      <td>2554</td>\n",
       "      <td>1709.05</td>\n",
       "      <td>1.0</td>\n",
       "    </tr>\n",
       "    <tr>\n",
       "      <th>4</th>\n",
       "      <td>15.01.2013</td>\n",
       "      <td>0</td>\n",
       "      <td>25</td>\n",
       "      <td>2555</td>\n",
       "      <td>1099.00</td>\n",
       "      <td>1.0</td>\n",
       "    </tr>\n",
       "  </tbody>\n",
       "</table>\n",
       "</div>"
      ],
      "text/plain": [
       "         date  date_block_num  shop_id  item_id  item_price  item_cnt_day\n",
       "0  02.01.2013               0       59    22154      999.00           1.0\n",
       "1  03.01.2013               0       25     2552      899.00           1.0\n",
       "2  05.01.2013               0       25     2552      899.00          -1.0\n",
       "3  06.01.2013               0       25     2554     1709.05           1.0\n",
       "4  15.01.2013               0       25     2555     1099.00           1.0"
      ]
     },
     "execution_count": 4,
     "metadata": {},
     "output_type": "execute_result"
    }
   ],
   "source": [
    "train_data.head()"
   ]
  },
  {
   "cell_type": "code",
   "execution_count": 5,
   "id": "61026001",
   "metadata": {
    "execution": {
     "iopub.execute_input": "2021-12-23T13:10:08.567181Z",
     "iopub.status.busy": "2021-12-23T13:10:08.565993Z",
     "iopub.status.idle": "2021-12-23T13:10:08.571259Z",
     "shell.execute_reply": "2021-12-23T13:10:08.570637Z",
     "shell.execute_reply.started": "2021-12-23T13:06:11.589410Z"
    },
    "papermill": {
     "duration": 0.032869,
     "end_time": "2021-12-23T13:10:08.571405",
     "exception": false,
     "start_time": "2021-12-23T13:10:08.538536",
     "status": "completed"
    },
    "tags": []
   },
   "outputs": [
    {
     "data": {
      "text/html": [
       "<div>\n",
       "<style scoped>\n",
       "    .dataframe tbody tr th:only-of-type {\n",
       "        vertical-align: middle;\n",
       "    }\n",
       "\n",
       "    .dataframe tbody tr th {\n",
       "        vertical-align: top;\n",
       "    }\n",
       "\n",
       "    .dataframe thead th {\n",
       "        text-align: right;\n",
       "    }\n",
       "</style>\n",
       "<table border=\"1\" class=\"dataframe\">\n",
       "  <thead>\n",
       "    <tr style=\"text-align: right;\">\n",
       "      <th></th>\n",
       "      <th>ID</th>\n",
       "      <th>shop_id</th>\n",
       "      <th>item_id</th>\n",
       "    </tr>\n",
       "  </thead>\n",
       "  <tbody>\n",
       "    <tr>\n",
       "      <th>0</th>\n",
       "      <td>0</td>\n",
       "      <td>5</td>\n",
       "      <td>5037</td>\n",
       "    </tr>\n",
       "    <tr>\n",
       "      <th>1</th>\n",
       "      <td>1</td>\n",
       "      <td>5</td>\n",
       "      <td>5320</td>\n",
       "    </tr>\n",
       "    <tr>\n",
       "      <th>2</th>\n",
       "      <td>2</td>\n",
       "      <td>5</td>\n",
       "      <td>5233</td>\n",
       "    </tr>\n",
       "    <tr>\n",
       "      <th>3</th>\n",
       "      <td>3</td>\n",
       "      <td>5</td>\n",
       "      <td>5232</td>\n",
       "    </tr>\n",
       "    <tr>\n",
       "      <th>4</th>\n",
       "      <td>4</td>\n",
       "      <td>5</td>\n",
       "      <td>5268</td>\n",
       "    </tr>\n",
       "  </tbody>\n",
       "</table>\n",
       "</div>"
      ],
      "text/plain": [
       "   ID  shop_id  item_id\n",
       "0   0        5     5037\n",
       "1   1        5     5320\n",
       "2   2        5     5233\n",
       "3   3        5     5232\n",
       "4   4        5     5268"
      ]
     },
     "execution_count": 5,
     "metadata": {},
     "output_type": "execute_result"
    }
   ],
   "source": [
    "test_data.head()"
   ]
  },
  {
   "cell_type": "markdown",
   "id": "5d3fe98e",
   "metadata": {
    "papermill": {
     "duration": 0.016132,
     "end_time": "2021-12-23T13:10:08.604320",
     "exception": false,
     "start_time": "2021-12-23T13:10:08.588188",
     "status": "completed"
    },
    "tags": []
   },
   "source": [
    "## Data Exploration.."
   ]
  },
  {
   "cell_type": "code",
   "execution_count": 6,
   "id": "9c343dd6",
   "metadata": {
    "execution": {
     "iopub.execute_input": "2021-12-23T13:10:08.677354Z",
     "iopub.status.busy": "2021-12-23T13:10:08.676627Z",
     "iopub.status.idle": "2021-12-23T13:10:08.920671Z",
     "shell.execute_reply": "2021-12-23T13:10:08.920056Z",
     "shell.execute_reply.started": "2021-12-23T13:06:11.608389Z"
    },
    "papermill": {
     "duration": 0.266223,
     "end_time": "2021-12-23T13:10:08.920846",
     "exception": false,
     "start_time": "2021-12-23T13:10:08.654623",
     "status": "completed"
    },
    "tags": []
   },
   "outputs": [
    {
     "data": {
      "text/plain": [
       "date              0\n",
       "date_block_num    0\n",
       "shop_id           0\n",
       "item_id           0\n",
       "item_price        0\n",
       "item_cnt_day      0\n",
       "dtype: int64"
      ]
     },
     "execution_count": 6,
     "metadata": {},
     "output_type": "execute_result"
    }
   ],
   "source": [
    "#Copy the train_data\n",
    "train_Data = train_data.copy()\n",
    "\n",
    "#Check NaN\n",
    "train_Data.isna().sum()"
   ]
  },
  {
   "cell_type": "code",
   "execution_count": 7,
   "id": "2fdf9cc6",
   "metadata": {
    "execution": {
     "iopub.execute_input": "2021-12-23T13:10:09.000962Z",
     "iopub.status.busy": "2021-12-23T13:10:09.000226Z",
     "iopub.status.idle": "2021-12-23T13:10:39.377833Z",
     "shell.execute_reply": "2021-12-23T13:10:39.377253Z",
     "shell.execute_reply.started": "2021-12-23T13:06:11.877593Z"
    },
    "papermill": {
     "duration": 30.403847,
     "end_time": "2021-12-23T13:10:39.378011",
     "exception": false,
     "start_time": "2021-12-23T13:10:08.974164",
     "status": "completed"
    },
    "tags": []
   },
   "outputs": [],
   "source": [
    "def month_column(col):\n",
    "    temp = col.split('.')[1]\n",
    "    return temp\n",
    "train_Data['Month'] = train_Data['date'].apply(month_column)\n",
    "\n",
    "def year_column(col):\n",
    "    temp = col.split('.')[2]\n",
    "    return temp\n",
    "train_Data['Year'] = train_Data['date'].apply(year_column)\n",
    "\n",
    "train_Data['Sales'] = train_Data['item_price'] * train_Data['item_cnt_day']\n",
    "\n",
    "item_categories = []\n",
    "for i in train_Data['item_id']:\n",
    "    item_categories.append(sale_item['item_category_id'].iloc[i])\n",
    "\n",
    "train_Data['item_categories'] = item_categories\n",
    "\n",
    "# Add the item_id_categories columns\n",
    "train_Data['item_id_categories'] = train_Data['item_id'].apply(str) + ',' +train_Data['item_categories'].apply(str)"
   ]
  },
  {
   "cell_type": "code",
   "execution_count": 8,
   "id": "2e4582f8",
   "metadata": {
    "execution": {
     "iopub.execute_input": "2021-12-23T13:10:39.433151Z",
     "iopub.status.busy": "2021-12-23T13:10:39.421468Z",
     "iopub.status.idle": "2021-12-23T13:10:39.436542Z",
     "shell.execute_reply": "2021-12-23T13:10:39.437032Z",
     "shell.execute_reply.started": "2021-12-23T13:06:41.735455Z"
    },
    "papermill": {
     "duration": 0.039034,
     "end_time": "2021-12-23T13:10:39.437238",
     "exception": false,
     "start_time": "2021-12-23T13:10:39.398204",
     "status": "completed"
    },
    "tags": []
   },
   "outputs": [
    {
     "data": {
      "text/html": [
       "<div>\n",
       "<style scoped>\n",
       "    .dataframe tbody tr th:only-of-type {\n",
       "        vertical-align: middle;\n",
       "    }\n",
       "\n",
       "    .dataframe tbody tr th {\n",
       "        vertical-align: top;\n",
       "    }\n",
       "\n",
       "    .dataframe thead th {\n",
       "        text-align: right;\n",
       "    }\n",
       "</style>\n",
       "<table border=\"1\" class=\"dataframe\">\n",
       "  <thead>\n",
       "    <tr style=\"text-align: right;\">\n",
       "      <th></th>\n",
       "      <th>date</th>\n",
       "      <th>date_block_num</th>\n",
       "      <th>shop_id</th>\n",
       "      <th>item_id</th>\n",
       "      <th>item_price</th>\n",
       "      <th>item_cnt_day</th>\n",
       "      <th>Month</th>\n",
       "      <th>Year</th>\n",
       "      <th>Sales</th>\n",
       "      <th>item_categories</th>\n",
       "      <th>item_id_categories</th>\n",
       "    </tr>\n",
       "  </thead>\n",
       "  <tbody>\n",
       "    <tr>\n",
       "      <th>0</th>\n",
       "      <td>02.01.2013</td>\n",
       "      <td>0</td>\n",
       "      <td>59</td>\n",
       "      <td>22154</td>\n",
       "      <td>999.00</td>\n",
       "      <td>1.0</td>\n",
       "      <td>01</td>\n",
       "      <td>2013</td>\n",
       "      <td>999.00</td>\n",
       "      <td>37</td>\n",
       "      <td>22154,37</td>\n",
       "    </tr>\n",
       "    <tr>\n",
       "      <th>1</th>\n",
       "      <td>03.01.2013</td>\n",
       "      <td>0</td>\n",
       "      <td>25</td>\n",
       "      <td>2552</td>\n",
       "      <td>899.00</td>\n",
       "      <td>1.0</td>\n",
       "      <td>01</td>\n",
       "      <td>2013</td>\n",
       "      <td>899.00</td>\n",
       "      <td>58</td>\n",
       "      <td>2552,58</td>\n",
       "    </tr>\n",
       "    <tr>\n",
       "      <th>2</th>\n",
       "      <td>05.01.2013</td>\n",
       "      <td>0</td>\n",
       "      <td>25</td>\n",
       "      <td>2552</td>\n",
       "      <td>899.00</td>\n",
       "      <td>-1.0</td>\n",
       "      <td>01</td>\n",
       "      <td>2013</td>\n",
       "      <td>-899.00</td>\n",
       "      <td>58</td>\n",
       "      <td>2552,58</td>\n",
       "    </tr>\n",
       "    <tr>\n",
       "      <th>3</th>\n",
       "      <td>06.01.2013</td>\n",
       "      <td>0</td>\n",
       "      <td>25</td>\n",
       "      <td>2554</td>\n",
       "      <td>1709.05</td>\n",
       "      <td>1.0</td>\n",
       "      <td>01</td>\n",
       "      <td>2013</td>\n",
       "      <td>1709.05</td>\n",
       "      <td>58</td>\n",
       "      <td>2554,58</td>\n",
       "    </tr>\n",
       "    <tr>\n",
       "      <th>4</th>\n",
       "      <td>15.01.2013</td>\n",
       "      <td>0</td>\n",
       "      <td>25</td>\n",
       "      <td>2555</td>\n",
       "      <td>1099.00</td>\n",
       "      <td>1.0</td>\n",
       "      <td>01</td>\n",
       "      <td>2013</td>\n",
       "      <td>1099.00</td>\n",
       "      <td>56</td>\n",
       "      <td>2555,56</td>\n",
       "    </tr>\n",
       "  </tbody>\n",
       "</table>\n",
       "</div>"
      ],
      "text/plain": [
       "         date  date_block_num  shop_id  item_id  item_price  item_cnt_day  \\\n",
       "0  02.01.2013               0       59    22154      999.00           1.0   \n",
       "1  03.01.2013               0       25     2552      899.00           1.0   \n",
       "2  05.01.2013               0       25     2552      899.00          -1.0   \n",
       "3  06.01.2013               0       25     2554     1709.05           1.0   \n",
       "4  15.01.2013               0       25     2555     1099.00           1.0   \n",
       "\n",
       "  Month  Year    Sales  item_categories item_id_categories  \n",
       "0    01  2013   999.00               37           22154,37  \n",
       "1    01  2013   899.00               58            2552,58  \n",
       "2    01  2013  -899.00               58            2552,58  \n",
       "3    01  2013  1709.05               58            2554,58  \n",
       "4    01  2013  1099.00               56            2555,56  "
      ]
     },
     "execution_count": 8,
     "metadata": {},
     "output_type": "execute_result"
    }
   ],
   "source": [
    "train_Data.head()"
   ]
  },
  {
   "cell_type": "markdown",
   "id": "8c2aa21d",
   "metadata": {
    "papermill": {
     "duration": 0.018498,
     "end_time": "2021-12-23T13:10:39.473659",
     "exception": false,
     "start_time": "2021-12-23T13:10:39.455161",
     "status": "completed"
    },
    "tags": []
   },
   "source": [
    "# Deep Learning"
   ]
  },
  {
   "cell_type": "markdown",
   "id": "954a0d1d",
   "metadata": {},
   "source": [
    "## Apply train test split.."
   ]
  },
  {
   "cell_type": "code",
   "execution_count": 9,
   "id": "1dc9e172",
   "metadata": {
    "execution": {
     "iopub.execute_input": "2021-12-23T13:10:39.737686Z",
     "iopub.status.busy": "2021-12-23T13:10:39.736878Z",
     "iopub.status.idle": "2021-12-23T13:10:40.476904Z",
     "shell.execute_reply": "2021-12-23T13:10:40.476199Z",
     "shell.execute_reply.started": "2021-12-23T13:06:41.754821Z"
    },
    "papermill": {
     "duration": 0.953604,
     "end_time": "2021-12-23T13:10:40.477081",
     "exception": false,
     "start_time": "2021-12-23T13:10:39.523477",
     "status": "completed"
    },
    "tags": []
   },
   "outputs": [],
   "source": [
    "train_Data = train_Data[train_Data['Month'] == '11']\n",
    "training_data = train_Data.drop(columns = ['date', 'date_block_num', 'item_price', 'Month', 'Year','Sales', \n",
    "                                           'item_id_categories', 'item_cnt_day'])\n",
    "training_target = train_Data['item_cnt_day']"
   ]
  },
  {
   "cell_type": "code",
   "execution_count": 10,
   "id": "2958c2fe",
   "metadata": {
    "execution": {
     "iopub.execute_input": "2021-12-23T13:10:40.522375Z",
     "iopub.status.busy": "2021-12-23T13:10:40.521421Z",
     "iopub.status.idle": "2021-12-23T13:10:40.526002Z",
     "shell.execute_reply": "2021-12-23T13:10:40.525401Z",
     "shell.execute_reply.started": "2021-12-23T13:06:42.630034Z"
    },
    "papermill": {
     "duration": 0.029419,
     "end_time": "2021-12-23T13:10:40.526163",
     "exception": false,
     "start_time": "2021-12-23T13:10:40.496744",
     "status": "completed"
    },
    "tags": []
   },
   "outputs": [],
   "source": [
    "training_data = np.array(training_data)\n",
    "training_target = np.array(training_target)"
   ]
  },
  {
   "cell_type": "code",
   "execution_count": 11,
   "id": "c6931c61",
   "metadata": {
    "execution": {
     "iopub.execute_input": "2021-12-23T13:10:40.569578Z",
     "iopub.status.busy": "2021-12-23T13:10:40.568446Z",
     "iopub.status.idle": "2021-12-23T13:10:40.572942Z",
     "shell.execute_reply": "2021-12-23T13:10:40.573647Z",
     "shell.execute_reply.started": "2021-12-23T13:06:42.641432Z"
    },
    "papermill": {
     "duration": 0.028787,
     "end_time": "2021-12-23T13:10:40.573911",
     "exception": false,
     "start_time": "2021-12-23T13:10:40.545124",
     "status": "completed"
    },
    "tags": []
   },
   "outputs": [
    {
     "data": {
      "text/plain": [
       "(183164, 3)"
      ]
     },
     "execution_count": 11,
     "metadata": {},
     "output_type": "execute_result"
    }
   ],
   "source": [
    "training_data.shape"
   ]
  },
  {
   "cell_type": "code",
   "execution_count": 12,
   "id": "af235a6f",
   "metadata": {
    "execution": {
     "iopub.execute_input": "2021-12-23T13:10:40.655126Z",
     "iopub.status.busy": "2021-12-23T13:10:40.654172Z",
     "iopub.status.idle": "2021-12-23T13:10:47.560921Z",
     "shell.execute_reply": "2021-12-23T13:10:47.560271Z",
     "shell.execute_reply.started": "2021-12-23T13:06:42.658363Z"
    },
    "papermill": {
     "duration": 6.92708,
     "end_time": "2021-12-23T13:10:47.561088",
     "exception": false,
     "start_time": "2021-12-23T13:10:40.634008",
     "status": "completed"
    },
    "tags": []
   },
   "outputs": [],
   "source": [
    "from tensorflow.keras.models import Sequential\n",
    "from tensorflow.keras.layers import Dense\n",
    "from tensorflow.keras.utils import plot_model"
   ]
  },
  {
   "cell_type": "code",
   "execution_count": 13,
   "id": "dbd23349",
   "metadata": {
    "execution": {
     "iopub.execute_input": "2021-12-23T13:10:47.604558Z",
     "iopub.status.busy": "2021-12-23T13:10:47.603781Z",
     "iopub.status.idle": "2021-12-23T13:10:56.823839Z",
     "shell.execute_reply": "2021-12-23T13:10:56.823297Z",
     "shell.execute_reply.started": "2021-12-23T13:06:42.669758Z"
    },
    "papermill": {
     "duration": 9.2445,
     "end_time": "2021-12-23T13:10:56.824067",
     "exception": false,
     "start_time": "2021-12-23T13:10:47.579567",
     "status": "completed"
    },
    "tags": []
   },
   "outputs": [
    {
     "name": "stdout",
     "output_type": "stream",
     "text": [
      "Epoch 1/5\n",
      "573/573 [==============================] - 1s 1ms/step - loss: 6.7408 - mse: 6.7408 - mae: 0.7909 - val_loss: 6.5876 - val_mse: 6.5876 - val_mae: 0.7620\n",
      "Epoch 2/5\n",
      "573/573 [==============================] - 1s 977us/step - loss: 6.5672 - mse: 6.5672 - mae: 0.6724 - val_loss: 6.4468 - val_mse: 6.4468 - val_mae: 0.6625\n",
      "Epoch 3/5\n",
      "573/573 [==============================] - 1s 1ms/step - loss: 6.4613 - mse: 6.4613 - mae: 0.5877 - val_loss: 6.3592 - val_mse: 6.3592 - val_mae: 0.5920\n",
      "Epoch 4/5\n",
      "573/573 [==============================] - 1s 993us/step - loss: 6.3956 - mse: 6.3956 - mae: 0.5286 - val_loss: 6.3035 - val_mse: 6.3035 - val_mae: 0.5425\n",
      "Epoch 5/5\n",
      "573/573 [==============================] - 1s 1ms/step - loss: 6.3534 - mse: 6.3534 - mae: 0.4865 - val_loss: 6.2667 - val_mse: 6.2667 - val_mae: 0.5070\n"
     ]
    }
   ],
   "source": [
    "model = Sequential()\n",
    "model.add(Dense(4, activation = 'sigmoid', input_dim = training_data.shape[1]))\n",
    "model.add(Dense(2, activation = 'relu'))\n",
    "model.add(Dense(1, activation = 'sigmoid'))\n",
    "model.compile(optimizer= 'adam', \n",
    "              loss = 'mse', \n",
    "              metrics = ['mse', 'mae'])\n",
    "history = model.fit(training_data, training_target, epochs = 5, batch_size = 256, validation_split = 0.2)"
   ]
  },
  {
   "cell_type": "markdown",
   "id": "51710e6c",
   "metadata": {
    "papermill": {
     "duration": 0.04947,
     "end_time": "2021-12-23T13:10:57.955678",
     "exception": false,
     "start_time": "2021-12-23T13:10:57.906208",
     "status": "completed"
    },
    "tags": []
   },
   "source": [
    "## Test Data.."
   ]
  },
  {
   "cell_type": "code",
   "execution_count": 14,
   "id": "25daf231",
   "metadata": {
    "execution": {
     "iopub.execute_input": "2021-12-23T13:10:58.071497Z",
     "iopub.status.busy": "2021-12-23T13:10:58.070758Z",
     "iopub.status.idle": "2021-12-23T13:10:58.083531Z",
     "shell.execute_reply": "2021-12-23T13:10:58.083974Z",
     "shell.execute_reply.started": "2021-12-23T13:06:53.904476Z"
    },
    "papermill": {
     "duration": 0.073577,
     "end_time": "2021-12-23T13:10:58.084165",
     "exception": false,
     "start_time": "2021-12-23T13:10:58.010588",
     "status": "completed"
    },
    "tags": []
   },
   "outputs": [
    {
     "data": {
      "text/html": [
       "<div>\n",
       "<style scoped>\n",
       "    .dataframe tbody tr th:only-of-type {\n",
       "        vertical-align: middle;\n",
       "    }\n",
       "\n",
       "    .dataframe tbody tr th {\n",
       "        vertical-align: top;\n",
       "    }\n",
       "\n",
       "    .dataframe thead th {\n",
       "        text-align: right;\n",
       "    }\n",
       "</style>\n",
       "<table border=\"1\" class=\"dataframe\">\n",
       "  <thead>\n",
       "    <tr style=\"text-align: right;\">\n",
       "      <th></th>\n",
       "      <th>ID</th>\n",
       "      <th>shop_id</th>\n",
       "      <th>item_id</th>\n",
       "    </tr>\n",
       "  </thead>\n",
       "  <tbody>\n",
       "    <tr>\n",
       "      <th>0</th>\n",
       "      <td>0</td>\n",
       "      <td>5</td>\n",
       "      <td>5037</td>\n",
       "    </tr>\n",
       "    <tr>\n",
       "      <th>1</th>\n",
       "      <td>1</td>\n",
       "      <td>5</td>\n",
       "      <td>5320</td>\n",
       "    </tr>\n",
       "    <tr>\n",
       "      <th>2</th>\n",
       "      <td>2</td>\n",
       "      <td>5</td>\n",
       "      <td>5233</td>\n",
       "    </tr>\n",
       "    <tr>\n",
       "      <th>3</th>\n",
       "      <td>3</td>\n",
       "      <td>5</td>\n",
       "      <td>5232</td>\n",
       "    </tr>\n",
       "    <tr>\n",
       "      <th>4</th>\n",
       "      <td>4</td>\n",
       "      <td>5</td>\n",
       "      <td>5268</td>\n",
       "    </tr>\n",
       "  </tbody>\n",
       "</table>\n",
       "</div>"
      ],
      "text/plain": [
       "   ID  shop_id  item_id\n",
       "0   0        5     5037\n",
       "1   1        5     5320\n",
       "2   2        5     5233\n",
       "3   3        5     5232\n",
       "4   4        5     5268"
      ]
     },
     "execution_count": 14,
     "metadata": {},
     "output_type": "execute_result"
    }
   ],
   "source": [
    "test_data.head()"
   ]
  },
  {
   "cell_type": "code",
   "execution_count": 15,
   "id": "ec489a28",
   "metadata": {
    "execution": {
     "iopub.execute_input": "2021-12-23T13:10:58.198438Z",
     "iopub.status.busy": "2021-12-23T13:10:58.197213Z",
     "iopub.status.idle": "2021-12-23T13:11:00.120014Z",
     "shell.execute_reply": "2021-12-23T13:11:00.119498Z",
     "shell.execute_reply.started": "2021-12-23T13:06:53.917560Z"
    },
    "papermill": {
     "duration": 1.981555,
     "end_time": "2021-12-23T13:11:00.120166",
     "exception": false,
     "start_time": "2021-12-23T13:10:58.138611",
     "status": "completed"
    },
    "tags": []
   },
   "outputs": [],
   "source": [
    "test_Data = test_data.copy()\n",
    "#Add the item_categories columns\n",
    "item_categor = []\n",
    "for i in test_Data['item_id']:\n",
    "    item_categor.append(sale_item['item_category_id'].iloc[i])\n",
    "\n",
    "test_Data['item_categories'] = item_categor"
   ]
  },
  {
   "cell_type": "code",
   "execution_count": 16,
   "id": "7f79d87a",
   "metadata": {
    "execution": {
     "iopub.execute_input": "2021-12-23T13:11:00.227644Z",
     "iopub.status.busy": "2021-12-23T13:11:00.226935Z",
     "iopub.status.idle": "2021-12-23T13:11:07.314031Z",
     "shell.execute_reply": "2021-12-23T13:11:07.313354Z",
     "shell.execute_reply.started": "2021-12-23T13:06:55.791417Z"
    },
    "papermill": {
     "duration": 7.143098,
     "end_time": "2021-12-23T13:11:07.314179",
     "exception": false,
     "start_time": "2021-12-23T13:11:00.171081",
     "status": "completed"
    },
    "tags": []
   },
   "outputs": [],
   "source": [
    "test_Data = test_Data.drop(columns = 'ID')\n",
    "test_Data = np.array(test_Data)\n",
    "test_data['item_cnt_month'] = model.predict(test_Data)"
   ]
  },
  {
   "cell_type": "code",
   "execution_count": 17,
   "id": "a7fc30ab",
   "metadata": {
    "execution": {
     "iopub.execute_input": "2021-12-23T13:11:07.429024Z",
     "iopub.status.busy": "2021-12-23T13:11:07.428339Z",
     "iopub.status.idle": "2021-12-23T13:11:14.568229Z",
     "shell.execute_reply": "2021-12-23T13:11:14.568690Z",
     "shell.execute_reply.started": "2021-12-23T13:07:03.000373Z"
    },
    "papermill": {
     "duration": 7.200797,
     "end_time": "2021-12-23T13:11:14.568860",
     "exception": false,
     "start_time": "2021-12-23T13:11:07.368063",
     "status": "completed"
    },
    "tags": []
   },
   "outputs": [],
   "source": [
    "submission = pd.read_csv('future-sales/sample_submission.csv')\n",
    "submission['item_cnt_month'] = model.predict(test_Data)\n",
    "submission.to_csv('submission.csv', index = False)"
   ]
  },
  {
   "cell_type": "code",
   "execution_count": 18,
   "id": "129373c9",
   "metadata": {
    "execution": {
     "iopub.execute_input": "2021-12-23T13:11:14.681540Z",
     "iopub.status.busy": "2021-12-23T13:11:14.680646Z",
     "iopub.status.idle": "2021-12-23T13:11:14.691131Z",
     "shell.execute_reply": "2021-12-23T13:11:14.691593Z",
     "shell.execute_reply.started": "2021-12-23T13:07:11.277226Z"
    },
    "papermill": {
     "duration": 0.069754,
     "end_time": "2021-12-23T13:11:14.691814",
     "exception": false,
     "start_time": "2021-12-23T13:11:14.622060",
     "status": "completed"
    },
    "tags": []
   },
   "outputs": [
    {
     "data": {
      "text/html": [
       "<div>\n",
       "<style scoped>\n",
       "    .dataframe tbody tr th:only-of-type {\n",
       "        vertical-align: middle;\n",
       "    }\n",
       "\n",
       "    .dataframe tbody tr th {\n",
       "        vertical-align: top;\n",
       "    }\n",
       "\n",
       "    .dataframe thead th {\n",
       "        text-align: right;\n",
       "    }\n",
       "</style>\n",
       "<table border=\"1\" class=\"dataframe\">\n",
       "  <thead>\n",
       "    <tr style=\"text-align: right;\">\n",
       "      <th></th>\n",
       "      <th>ID</th>\n",
       "      <th>item_cnt_month</th>\n",
       "    </tr>\n",
       "  </thead>\n",
       "  <tbody>\n",
       "    <tr>\n",
       "      <th>0</th>\n",
       "      <td>0</td>\n",
       "      <td>0.885349</td>\n",
       "    </tr>\n",
       "    <tr>\n",
       "      <th>1</th>\n",
       "      <td>1</td>\n",
       "      <td>0.885349</td>\n",
       "    </tr>\n",
       "    <tr>\n",
       "      <th>2</th>\n",
       "      <td>2</td>\n",
       "      <td>0.885349</td>\n",
       "    </tr>\n",
       "    <tr>\n",
       "      <th>3</th>\n",
       "      <td>3</td>\n",
       "      <td>0.885349</td>\n",
       "    </tr>\n",
       "    <tr>\n",
       "      <th>4</th>\n",
       "      <td>4</td>\n",
       "      <td>0.885349</td>\n",
       "    </tr>\n",
       "    <tr>\n",
       "      <th>...</th>\n",
       "      <td>...</td>\n",
       "      <td>...</td>\n",
       "    </tr>\n",
       "    <tr>\n",
       "      <th>214195</th>\n",
       "      <td>214195</td>\n",
       "      <td>0.885349</td>\n",
       "    </tr>\n",
       "    <tr>\n",
       "      <th>214196</th>\n",
       "      <td>214196</td>\n",
       "      <td>0.885349</td>\n",
       "    </tr>\n",
       "    <tr>\n",
       "      <th>214197</th>\n",
       "      <td>214197</td>\n",
       "      <td>0.885349</td>\n",
       "    </tr>\n",
       "    <tr>\n",
       "      <th>214198</th>\n",
       "      <td>214198</td>\n",
       "      <td>0.885349</td>\n",
       "    </tr>\n",
       "    <tr>\n",
       "      <th>214199</th>\n",
       "      <td>214199</td>\n",
       "      <td>0.885349</td>\n",
       "    </tr>\n",
       "  </tbody>\n",
       "</table>\n",
       "<p>214200 rows × 2 columns</p>\n",
       "</div>"
      ],
      "text/plain": [
       "            ID  item_cnt_month\n",
       "0            0        0.885349\n",
       "1            1        0.885349\n",
       "2            2        0.885349\n",
       "3            3        0.885349\n",
       "4            4        0.885349\n",
       "...        ...             ...\n",
       "214195  214195        0.885349\n",
       "214196  214196        0.885349\n",
       "214197  214197        0.885349\n",
       "214198  214198        0.885349\n",
       "214199  214199        0.885349\n",
       "\n",
       "[214200 rows x 2 columns]"
      ]
     },
     "execution_count": 18,
     "metadata": {},
     "output_type": "execute_result"
    }
   ],
   "source": [
    "submission"
   ]
  },
  {
   "cell_type": "markdown",
   "id": "21962018",
   "metadata": {},
   "source": [
    "# THE END..!!"
   ]
  }
 ],
 "metadata": {
  "kernelspec": {
   "display_name": "Python 3 (ipykernel)",
   "language": "python",
   "name": "python3"
  },
  "language_info": {
   "codemirror_mode": {
    "name": "ipython",
    "version": 3
   },
   "file_extension": ".py",
   "mimetype": "text/x-python",
   "name": "python",
   "nbconvert_exporter": "python",
   "pygments_lexer": "ipython3",
   "version": "3.9.7"
  },
  "papermill": {
   "default_parameters": {},
   "duration": 84.521934,
   "end_time": "2021-12-23T13:11:17.358125",
   "environment_variables": {},
   "exception": null,
   "input_path": "__notebook__.ipynb",
   "output_path": "__notebook__.ipynb",
   "parameters": {},
   "start_time": "2021-12-23T13:09:52.836191",
   "version": "2.3.3"
  }
 },
 "nbformat": 4,
 "nbformat_minor": 5
}
